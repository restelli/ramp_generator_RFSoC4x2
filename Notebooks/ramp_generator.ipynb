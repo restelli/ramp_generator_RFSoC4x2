{
 "cells": [
  {
   "cell_type": "markdown",
   "id": "4cbb0a7e",
   "metadata": {},
   "source": [
    "# Ramp generator\n"
   ]
  },
  {
   "cell_type": "code",
   "execution_count": 1,
   "id": "9a38cadb",
   "metadata": {},
   "outputs": [
    {
     "data": {
      "application/javascript": [
       "\n",
       "try {\n",
       "require(['notebook/js/codecell'], function(codecell) {\n",
       "  codecell.CodeCell.options_default.highlight_modes[\n",
       "      'magic_text/x-csrc'] = {'reg':[/^%%microblaze/]};\n",
       "  Jupyter.notebook.events.one('kernel_ready.Kernel', function(){\n",
       "      Jupyter.notebook.get_cells().map(function(cell){\n",
       "          if (cell.cell_type == 'code'){ cell.auto_highlight(); } }) ;\n",
       "  });\n",
       "});\n",
       "} catch (e) {};\n"
      ]
     },
     "metadata": {},
     "output_type": "display_data"
    },
    {
     "data": {
      "application/javascript": [
       "\n",
       "try {\n",
       "require(['notebook/js/codecell'], function(codecell) {\n",
       "  codecell.CodeCell.options_default.highlight_modes[\n",
       "      'magic_text/x-csrc'] = {'reg':[/^%%pybind11/]};\n",
       "  Jupyter.notebook.events.one('kernel_ready.Kernel', function(){\n",
       "      Jupyter.notebook.get_cells().map(function(cell){\n",
       "          if (cell.cell_type == 'code'){ cell.auto_highlight(); } }) ;\n",
       "  });\n",
       "});\n",
       "} catch (e) {};\n"
      ]
     },
     "metadata": {},
     "output_type": "display_data"
    }
   ],
   "source": [
    "from ramp_generator import RampGenerator\n",
    "\n",
    "c_ramp = RampGenerator(f=50e6)"
   ]
  },
  {
   "cell_type": "markdown",
   "id": "2805a4e3",
   "metadata": {},
   "source": [
    "## Turning off the signals"
   ]
  },
  {
   "cell_type": "code",
   "execution_count": 3,
   "id": "f08e6420",
   "metadata": {},
   "outputs": [
    {
     "name": "stdout",
     "output_type": "stream",
     "text": [
      "Actual frequency = 570000000.1327134\n",
      "Accumulator increment = 498073600\n"
     ]
    }
   ],
   "source": [
    "c_ramp.frequency = 570e6\n",
    "print(f\"Actual frequency = {c_ramp.frequency}\")\n",
    "print(f\"Accumulator increment = {c_ramp.increment}\")\n"
   ]
  },
  {
   "cell_type": "code",
   "execution_count": null,
   "id": "3855b30a",
   "metadata": {},
   "outputs": [],
   "source": []
  }
 ],
 "metadata": {
  "kernelspec": {
   "display_name": "Python 3 (ipykernel)",
   "language": "python",
   "name": "python3"
  },
  "language_info": {
   "codemirror_mode": {
    "name": "ipython",
    "version": 3
   },
   "file_extension": ".py",
   "mimetype": "text/x-python",
   "name": "python",
   "nbconvert_exporter": "python",
   "pygments_lexer": "ipython3",
   "version": "3.10.4"
  }
 },
 "nbformat": 4,
 "nbformat_minor": 5
}
