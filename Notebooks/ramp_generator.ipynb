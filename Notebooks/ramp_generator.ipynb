{
 "cells": [
  {
   "cell_type": "markdown",
   "id": "4cbb0a7e",
   "metadata": {},
   "source": [
    "# Ramp generator\n"
   ]
  },
  {
   "cell_type": "code",
   "execution_count": 3,
   "id": "9a38cadb",
   "metadata": {},
   "outputs": [],
   "source": [
    "from ramp_generator import RampGenerator\n",
    "\n",
    "c_ramp = RampGenerator(f=50e6,a=1.0)"
   ]
  },
  {
   "cell_type": "markdown",
   "id": "2805a4e3",
   "metadata": {},
   "source": [
    "## Turning off the signals"
   ]
  },
  {
   "cell_type": "code",
   "execution_count": 20,
   "id": "f08e6420",
   "metadata": {},
   "outputs": [
    {
     "name": "stdout",
     "output_type": "stream",
     "text": [
      "Actual frequency = 600000000.1396984\n",
      "Actual amplitude = 0.6999923704890516\n",
      "Amplitude in machine units = 45874\n",
      "Accumulator increment = 262144000\n"
     ]
    }
   ],
   "source": [
    "c_ramp.frequency = 6e8 # Setting the frequency to 600MHz\n",
    "c_ramp.amplitude = 0.7 #Setting gain to 0.7 times the max!\n",
    "print(f\"Actual frequency = {c_ramp.frequency}\")\n",
    "print(f\"Actual amplitude = {c_ramp.amplitude}\")\n",
    "print(f\"Amplitude in machine units = {c_ramp.amplitude_mu}\")\n",
    "print(f\"Accumulator increment = {c_ramp.increment}\")\n"
   ]
  },
  {
   "cell_type": "code",
   "execution_count": null,
   "id": "f9e54849",
   "metadata": {},
   "outputs": [],
   "source": []
  }
 ],
 "metadata": {
  "kernelspec": {
   "display_name": "Python 3 (ipykernel)",
   "language": "python",
   "name": "python3"
  },
  "language_info": {
   "codemirror_mode": {
    "name": "ipython",
    "version": 3
   },
   "file_extension": ".py",
   "mimetype": "text/x-python",
   "name": "python",
   "nbconvert_exporter": "python",
   "pygments_lexer": "ipython3",
   "version": "3.10.4"
  }
 },
 "nbformat": 4,
 "nbformat_minor": 5
}
